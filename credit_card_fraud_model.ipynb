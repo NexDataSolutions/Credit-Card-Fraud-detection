{
 "cells": [
  {
   "cell_type": "code",
   "execution_count": 1,
   "metadata": {},
   "outputs": [],
   "source": [
    "import pandas as pd\n",
    "import numpy as np\n",
    "from sklearn.model_selection import train_test_split\n",
    "from sklearn.preprocessing import OneHotEncoder, StandardScaler\n",
    "from sklearn.metrics import accuracy_score, confusion_matrix\n",
    "import xgboost as xgb\n",
    "import matplotlib.pyplot as plt"
   ]
  },
  {
   "cell_type": "code",
   "execution_count": 2,
   "metadata": {},
   "outputs": [],
   "source": [
    "df = pd.read_csv('creditcard_2023.csv')\n",
    "\n",
    "\n",
    "\n",
    "\n",
    "\n",
    "# Define input features and target variable\n",
    "X = df[['id','V1','V2','V3','V4','V5','V6','V7','V8','V9','V10','V11','V12','V13','V14','V15','V16','V17','V18','V19','V20','V21','V22','V23','V24','V25','V26','V27','V28','Amount',]]\n",
    "y = df['Class']"
   ]
  },
  {
   "cell_type": "code",
   "execution_count": 3,
   "metadata": {},
   "outputs": [],
   "source": [
    "from sklearn.model_selection import train_test_split\n",
    "X_train, X_test, y_train, y_test = train_test_split(X, y, test_size=0.2, random_state=42)\n"
   ]
  },
  {
   "cell_type": "code",
   "execution_count": 4,
   "metadata": {},
   "outputs": [
    {
     "name": "stdout",
     "output_type": "stream",
     "text": [
      "First few elements of X_train:\n",
      "             id        V1        V2        V3        V4        V5        V6  \\\n",
      "373474  373474  0.312289  0.256749 -0.348959  0.804888  0.196888 -0.139495   \n",
      "424048  424048 -0.738924  0.882741 -1.100036  1.183329 -0.584835 -0.626543   \n",
      "409855  409855 -0.277764  0.174947 -0.475947 -0.007279 -0.181876 -0.128142   \n",
      "90244    90244 -0.195993 -0.470999  2.492314 -0.416324 -0.062093  0.642238   \n",
      "175414  175414  1.786631 -0.574048 -0.251302 -1.011117  1.518896  2.140143   \n",
      "\n",
      "              V7        V8        V9  ...       V20       V21       V22  \\\n",
      "373474 -0.081428 -0.240777 -0.788505  ...  0.422273 -0.098466 -0.106306   \n",
      "424048 -0.632471  0.538635 -0.949273  ... -0.147838  0.322355  0.530422   \n",
      "409855 -0.227282 -0.388552  0.184313  ...  0.376360  0.462207 -0.214574   \n",
      "90244   0.213857 -0.122787  1.595950  ... -0.353785 -0.096748  0.508039   \n",
      "175414  0.282776  0.034446  0.753873  ... -0.321018 -0.222583 -0.771246   \n",
      "\n",
      "             V23       V24       V25       V26       V27       V28    Amount  \n",
      "373474 -0.259423 -0.537555  1.191314  0.638648  0.508251  0.867163  10182.15  \n",
      "424048  0.169279 -0.304172 -0.665394  0.207433 -0.132937 -0.949555  12325.14  \n",
      "409855 -0.080741 -1.018650  0.036501  0.493731 -0.095556 -0.961754   3066.08  \n",
      "90244  -0.196086  1.184552 -1.188919  2.114474 -0.591308  0.518468  21745.34  \n",
      "175414  0.371304  1.509223 -0.507466  0.497143 -0.296853 -0.261746   9666.38  \n",
      "\n",
      "[5 rows x 30 columns]\n",
      "Type of X_train: <class 'pandas.core.frame.DataFrame'>\n"
     ]
    }
   ],
   "source": [
    "\n",
    "print(\"First few elements of X_train:\\n\", X_train[:5])\n",
    "print(\"Type of X_train:\",type(X_train))"
   ]
  },
  {
   "cell_type": "code",
   "execution_count": 5,
   "metadata": {},
   "outputs": [
    {
     "name": "stdout",
     "output_type": "stream",
     "text": [
      "First few elements of y_train: 373474    1\n",
      "424048    1\n",
      "409855    1\n",
      "90244     0\n",
      "175414    0\n",
      "Name: Class, dtype: int64\n",
      "Type of y_train: <class 'pandas.core.series.Series'>\n"
     ]
    }
   ],
   "source": [
    "#output targets y\n",
    "print(\"First few elements of y_train:\", y_train[:5])\n",
    "print(\"Type of y_train:\",type(y_train))"
   ]
  },
  {
   "cell_type": "code",
   "execution_count": 6,
   "metadata": {},
   "outputs": [
    {
     "name": "stdout",
     "output_type": "stream",
     "text": [
      "The shape of X_train is: (454904, 30)\n",
      "The shape of y_train is:  (454904,)\n",
      "Number of training examples (m): 454904\n"
     ]
    }
   ],
   "source": [
    "#print Input features x shape\n",
    "#print output target y shape\n",
    "#print no. of training examples\n",
    "\n",
    "print ('The shape of X_train is:', X_train.shape)\n",
    "print ('The shape of y_train is: ', y_train.shape)\n",
    "print ('Number of training examples (m):', len(X_train))"
   ]
  },
  {
   "cell_type": "code",
   "execution_count": 7,
   "metadata": {},
   "outputs": [],
   "source": [
    "from xgboost import XGBClassifier\n",
    "model = XGBClassifier()\n"
   ]
  },
  {
   "cell_type": "code",
   "execution_count": 8,
   "metadata": {},
   "outputs": [],
   "source": [
    "model.fit(X_train, y_train)\n",
    "y_pred = model.predict(X_test)"
   ]
  },
  {
   "cell_type": "code",
   "execution_count": 9,
   "metadata": {},
   "outputs": [
    {
     "name": "stdout",
     "output_type": "stream",
     "text": [
      "Accuracy: 0.999815345655347\n"
     ]
    }
   ],
   "source": [
    "accuracy = model.score(X_test, y_test)\n",
    "print(f\"Accuracy: {accuracy}\")\n"
   ]
  },
  {
   "cell_type": "code",
   "execution_count": 10,
   "metadata": {},
   "outputs": [
    {
     "name": "stdout",
     "output_type": "stream",
     "text": [
      "              precision    recall  f1-score   support\n",
      "\n",
      "           0       1.00      1.00      1.00     56750\n",
      "           1       1.00      1.00      1.00     56976\n",
      "\n",
      "    accuracy                           1.00    113726\n",
      "   macro avg       1.00      1.00      1.00    113726\n",
      "weighted avg       1.00      1.00      1.00    113726\n",
      "\n",
      "ROC-AUC score: 0.999987284854153\n"
     ]
    }
   ],
   "source": [
    "from sklearn.metrics import classification_report, roc_auc_score\n",
    "y_pred = model.predict(X_test)\n",
    "print(classification_report(y_test, y_pred))\n",
    "roc_auc = roc_auc_score(y_test, model.predict_proba(X_test)[:, 1])\n",
    "print(f\"ROC-AUC score: {roc_auc}\")"
   ]
  },
  {
   "cell_type": "code",
   "execution_count": 11,
   "metadata": {},
   "outputs": [
    {
     "name": "stdout",
     "output_type": "stream",
     "text": [
      "Cross-validation accuracy: 0.9973655980162848\n"
     ]
    }
   ],
   "source": [
    "from sklearn.model_selection import cross_val_score\n",
    "cv_scores = cross_val_score(model, X, y, cv=5)\n",
    "print(f\"Cross-validation accuracy: {cv_scores.mean()}\")"
   ]
  },
  {
   "cell_type": "code",
   "execution_count": null,
   "metadata": {},
   "outputs": [],
   "source": []
  }
 ],
 "metadata": {
  "kernelspec": {
   "display_name": "fraudvenv",
   "language": "python",
   "name": "python3"
  },
  "language_info": {
   "codemirror_mode": {
    "name": "ipython",
    "version": 3
   },
   "file_extension": ".py",
   "mimetype": "text/x-python",
   "name": "python",
   "nbconvert_exporter": "python",
   "pygments_lexer": "ipython3",
   "version": "3.12.4"
  }
 },
 "nbformat": 4,
 "nbformat_minor": 2
}
